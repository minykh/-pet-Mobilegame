{
 "cells": [
  {
   "cell_type": "markdown",
   "id": "4ce41f41",
   "metadata": {},
   "source": [
    "# Проект: вариант 1"
   ]
  },
  {
   "cell_type": "raw",
   "id": "eb4b4672",
   "metadata": {},
   "source": [
    "Представьте, что вы работаете в компании, которая разрабатывает мобильные игры. К вам пришел менеджер с рядом задач по исследованию нескольких аспектов мобильного приложения:\n",
    "\n",
    "В первую очередь, его интересует показатель retention. Напишите функцию для его подсчета.\n",
    "Помимо этого, в компании провели A/B тестирование наборов акционных предложений. На основе имеющихся данных определите, какой набор можно считать лучшим и на основе каких метрик стоит принять правильное решение.\n",
    "Предложите метрики для оценки результатов последнего прошедшего тематического события в игре."
   ]
  },
  {
   "cell_type": "markdown",
   "id": "1679efb9",
   "metadata": {},
   "source": [
    "# Задание 2"
   ]
  },
  {
   "cell_type": "markdown",
   "id": "d33e73c0",
   "metadata": {},
   "source": [
    "Имеются результаты A/B теста, в котором двум группам пользователей предлагались различные наборы акционных предложений. Известно, что ARPU в тестовой группе выше на 5%, чем в контрольной. При этом в контрольной группе 1928 игроков из 202103 оказались платящими, а в тестовой – 1805 из 202667.\n",
    "\n",
    "Какой набор предложений можно считать лучшим? Какие метрики стоит проанализировать для принятия правильного решения и как?"
   ]
  },
  {
   "cell_type": "code",
   "execution_count": 1,
   "id": "8c0d378f",
   "metadata": {},
   "outputs": [],
   "source": [
    "import pandas as pd\n",
    "import numpy as np\n",
    "\n",
    "import seaborn as sns\n",
    "import matplotlib.pyplot as plt\n",
    "\n",
    "from tqdm.auto import tqdm\n",
    "from scipy.stats import norm\n",
    "\n",
    "import requests \n",
    "from urllib.parse import urlencode"
   ]
  },
  {
   "cell_type": "code",
   "execution_count": 2,
   "id": "95b4a3bb",
   "metadata": {},
   "outputs": [],
   "source": [
    "# Загрузим наши данные с Яндекс-диска:\n",
    "base_url = 'https://cloud-api.yandex.net/v1/disk/public/resources/download?' \n",
    "\n",
    "public_key = 'https://disk.yandex.ru/d/4lq_u9NdA2ZKtg'\n",
    "final_url = base_url + urlencode(dict(public_key=public_key)) \n",
    "response = requests.get(final_url) \n",
    "download_url = response.json()['href']"
   ]
  },
  {
   "cell_type": "code",
   "execution_count": 3,
   "id": "f76f8791",
   "metadata": {},
   "outputs": [
    {
     "data": {
      "text/html": [
       "<div>\n",
       "<style scoped>\n",
       "    .dataframe tbody tr th:only-of-type {\n",
       "        vertical-align: middle;\n",
       "    }\n",
       "\n",
       "    .dataframe tbody tr th {\n",
       "        vertical-align: top;\n",
       "    }\n",
       "\n",
       "    .dataframe thead th {\n",
       "        text-align: right;\n",
       "    }\n",
       "</style>\n",
       "<table border=\"1\" class=\"dataframe\">\n",
       "  <thead>\n",
       "    <tr style=\"text-align: right;\">\n",
       "      <th></th>\n",
       "      <th>user_id</th>\n",
       "      <th>revenue</th>\n",
       "      <th>testgroup</th>\n",
       "    </tr>\n",
       "  </thead>\n",
       "  <tbody>\n",
       "    <tr>\n",
       "      <th>0</th>\n",
       "      <td>1</td>\n",
       "      <td>0</td>\n",
       "      <td>b</td>\n",
       "    </tr>\n",
       "    <tr>\n",
       "      <th>1</th>\n",
       "      <td>2</td>\n",
       "      <td>0</td>\n",
       "      <td>a</td>\n",
       "    </tr>\n",
       "    <tr>\n",
       "      <th>2</th>\n",
       "      <td>3</td>\n",
       "      <td>0</td>\n",
       "      <td>a</td>\n",
       "    </tr>\n",
       "    <tr>\n",
       "      <th>3</th>\n",
       "      <td>4</td>\n",
       "      <td>0</td>\n",
       "      <td>b</td>\n",
       "    </tr>\n",
       "    <tr>\n",
       "      <th>4</th>\n",
       "      <td>5</td>\n",
       "      <td>0</td>\n",
       "      <td>b</td>\n",
       "    </tr>\n",
       "  </tbody>\n",
       "</table>\n",
       "</div>"
      ],
      "text/plain": [
       "   user_id  revenue testgroup\n",
       "0        1        0         b\n",
       "1        2        0         a\n",
       "2        3        0         a\n",
       "3        4        0         b\n",
       "4        5        0         b"
      ]
     },
     "execution_count": 3,
     "metadata": {},
     "output_type": "execute_result"
    }
   ],
   "source": [
    "df2 = pd.read_csv(download_url, sep=';')\n",
    "df2.head()"
   ]
  },
  {
   "cell_type": "markdown",
   "id": "f7a4bbeb",
   "metadata": {},
   "source": [
    "a - контрольная группа.  \n",
    "b - тестовая группа. "
   ]
  },
  {
   "cell_type": "code",
   "execution_count": 4,
   "id": "c998afef",
   "metadata": {},
   "outputs": [],
   "source": [
    "# Для удобства последующих рассчетов заведем несколько переменных\n",
    "a_with0 = \"testgroup=='a'\"\n",
    "a_without0 = \"testgroup=='a' and revenue>0\"\n",
    "\n",
    "b_with0 = \"testgroup=='b'\"\n",
    "b_without0 = \"testgroup=='b' and revenue>0\""
   ]
  },
  {
   "cell_type": "markdown",
   "id": "8d4b2a71",
   "metadata": {},
   "source": [
    "**Посчитаем основные показатели**"
   ]
  },
  {
   "cell_type": "code",
   "execution_count": 5,
   "id": "85b92b7e",
   "metadata": {},
   "outputs": [
    {
     "name": "stdout",
     "output_type": "stream",
     "text": [
      "Revenue контрольной группы: 5136189\n",
      "Revenue тестовой группы   : 5421603\n",
      "Revenue тестовой группы больше на  285414\n",
      "Количество пользователей контрольной группы: 202103\n",
      "Количество пользователей тестовой группы   : 202667\n",
      "Количество платящих пользователей контрольной группы: 1928\n",
      "Количество платящих пользователей тестовой группы   : 1805\n",
      "Конверсия в платящих пользователей контрольной группы: 0.95 %\n",
      "Конверсия в платящих пользователей тестовой группы   : 0.89 %\n",
      "ARPU контрольной группы: 25.41\n",
      "ARPU тестовой группы   : 26.75\n",
      "ARPPU контрольной группы: 2664.0\n",
      "ARPPU тестовой группы   : 3003.66\n"
     ]
    }
   ],
   "source": [
    "# Посмотрим на выручку по группам\n",
    "revenue_a = df2.query(a_with0).revenue.sum()\n",
    "revenue_b = df2.query(b_with0).revenue.sum()\n",
    "print('Revenue контрольной группы:', round(revenue_a, 2))\n",
    "print('Revenue тестовой группы   :', round(revenue_b, 2))\n",
    "print('Revenue тестовой группы больше на ', revenue_b - revenue_a)\n",
    "\n",
    "\n",
    "# Количество пользователей\n",
    "users_a = df2.query(a_with0).user_id.count()\n",
    "users_b = df2.query(b_with0).user_id.count()\n",
    "print('Количество пользователей контрольной группы:', round(users_a, 2))\n",
    "print('Количество пользователей тестовой группы   :', round(users_b, 2))\n",
    "\n",
    "# Количество платящих пользователей\n",
    "paying_users_a = df2.query(a_without0).user_id.count()\n",
    "paying_users_b = df2.query(b_without0).user_id.count()\n",
    "print('Количество платящих пользователей контрольной группы:', round(paying_users_a, 2))\n",
    "print('Количество платящих пользователей тестовой группы   :', round(paying_users_b, 2))\n",
    "\n",
    "# Конверсия пользователей в платящих\n",
    "conv_topay_a = paying_users_a / users_a * 100\n",
    "conv_topay_b = paying_users_b / users_b * 100\n",
    "print('Конверсия в платящих пользователей контрольной группы:', round(conv_topay_a, 2), '%')\n",
    "print('Конверсия в платящих пользователей тестовой группы   :', round(conv_topay_b, 2), '%')\n",
    " \n",
    "# Получим показатели ARPU\n",
    "arpu_a = revenue_a / users_a\n",
    "arpu_b = revenue_b / users_b\n",
    "print('ARPU контрольной группы:', round(arpu_a, 2))\n",
    "print('ARPU тестовой группы   :', round(arpu_b, 2))\n",
    "\n",
    "# Теперь ARPPU\n",
    "arppu_a = revenue_a / paying_users_a\n",
    "arppu_b = revenue_b / paying_users_b\n",
    "print('ARPPU контрольной группы:', round(arppu_a, 2))\n",
    "print('ARPPU тестовой группы   :', round(arppu_b, 2))"
   ]
  },
  {
   "cell_type": "code",
   "execution_count": 6,
   "id": "3496d4e4",
   "metadata": {},
   "outputs": [
    {
     "name": "stdout",
     "output_type": "stream",
     "text": [
      "ARPU тестовой группы на 5.26 % больше контрольной\n"
     ]
    }
   ],
   "source": [
    "print('ARPU тестовой группы на', round((arpu_b - arpu_a) / arpu_a * 100, 2), '% больше контрольной')"
   ]
  },
  {
   "cell_type": "markdown",
   "id": "f1b3cf5f",
   "metadata": {},
   "source": [
    "Итак, что мы видим:\n",
    "* Revenue и ARPPU выше в тестовой группе\n",
    "* При этом конверсия выше в контрольной группе"
   ]
  },
  {
   "cell_type": "code",
   "execution_count": 7,
   "id": "54f7ee69",
   "metadata": {
    "scrolled": false
   },
   "outputs": [
    {
     "data": {
      "text/plain": [
       "<AxesSubplot:xlabel='revenue', ylabel='testgroup'>"
      ]
     },
     "execution_count": 7,
     "metadata": {},
     "output_type": "execute_result"
    },
    {
     "data": {
      "image/png": "[encoded data removed]",
      "text/plain": [
       "<Figure size 1152x432 with 1 Axes>"
      ]
     },
     "metadata": {},
     "output_type": "display_data"
    }
   ],
   "source": [
    "# Оценим визуально разброс ненулевой выручки:\n",
    "sns.set(rc={'figure.figsize': (16, 6)})\n",
    "sns.boxplot(data=df2.query('revenue !=0'), y='testgroup', x='revenue')"
   ]
  },
  {
   "cell_type": "markdown",
   "id": "b28c6e62",
   "metadata": {},
   "source": [
    "В контрольной группе виден явный **выброс** в виде продаж с высоким чеком."
   ]
  },
  {
   "cell_type": "markdown",
   "id": "c4c0d552",
   "metadata": {},
   "source": [
    "Сравним данные при помощи bootstrap. Для этого будем использовать функцию из наших лекций"
   ]
  },
  {
   "cell_type": "code",
   "execution_count": 8,
   "id": "47ea6e6e",
   "metadata": {},
   "outputs": [],
   "source": [
    "def get_bootstrap(\n",
    "    data_column_1,  # числовые значения первой выборки\n",
    "    data_column_2,  # числовые значения второй выборки\n",
    "    boot_it=1000,  # количество бутстрэп-подвыборок\n",
    "    statistic=np.mean,  # интересующая нас статистика\n",
    "    bootstrap_conf_level=0.95  # уровень значимости\n",
    "):\n",
    "    boot_data = []\n",
    "    for i in tqdm(range(boot_it)):  # извлекаем подвыборки\n",
    "        samples_1 = data_column_1.sample(\n",
    "            len(data_column_1), \n",
    "            replace=True  # параметр возвращения\n",
    "        ).values\n",
    "        \n",
    "        samples_2 = data_column_2.sample(\n",
    "            len(data_column_1), \n",
    "            replace=True\n",
    "        ).values\n",
    "        \n",
    "        boot_data.append(statistic(samples_1) - statistic(samples_2))  # mean() - применяем статистику\n",
    "        \n",
    "    pd_boot_data = pd.DataFrame(boot_data)\n",
    "        \n",
    "    left_quant = (1 - bootstrap_conf_level) / 2\n",
    "    right_quant = 1 - (1 - bootstrap_conf_level) / 2\n",
    "    quants = pd_boot_data.quantile([left_quant, right_quant])\n",
    "        \n",
    "    p_1 = norm.cdf(\n",
    "        x=0, \n",
    "        loc=np.mean(boot_data), \n",
    "        scale=np.std(boot_data)\n",
    "    )\n",
    "    p_2 = norm.cdf(\n",
    "        x=0, \n",
    "        loc=-np.mean(boot_data), \n",
    "        scale=np.std(boot_data)\n",
    "    )\n",
    "    p_value = min(p_1, p_2) * 2\n",
    "        \n",
    "    # Визуализация\n",
    "    _, _, bars = plt.hist(pd_boot_data[0], bins=50)\n",
    "    for bar in bars:\n",
    "        if bar.get_x() <= quants.iloc[0][0] or bar.get_x() >= quants.iloc[1][0]:\n",
    "            bar.set_facecolor('red')\n",
    "        else: \n",
    "            bar.set_facecolor('grey')\n",
    "            bar.set_edgecolor('black')\n",
    "    \n",
    "    plt.style.use('ggplot')\n",
    "    plt.vlines(quants, ymin=0, ymax=50, linestyle='--')\n",
    "    plt.xlabel('boot_data')\n",
    "    plt.ylabel('frequency')\n",
    "    plt.title(\"Histogram of boot_data\")\n",
    "    plt.show()\n",
    "       \n",
    "    return {\"boot_data\": boot_data, \n",
    "            \"quants\": quants, \n",
    "            \"p_value\": p_value}"
   ]
  },
  {
   "cell_type": "markdown",
   "id": "04f35898",
   "metadata": {},
   "source": [
    "**Сравниваем контрольную и тестовую группы без дополнительной обработки**"
   ]
  },
  {
   "cell_type": "code",
   "execution_count": 9,
   "id": "9d427cc0",
   "metadata": {},
   "outputs": [
    {
     "data": {
      "application/vnd.jupyter.widget-view+json": {
       "model_id": "5bcd6850443647bfb646a22e25c4a985",
       "version_major": 2,
       "version_minor": 0
      },
      "text/plain": [
       "  0%|          | 0/1000 [00:00<?, ?it/s]"
      ]
     },
     "metadata": {},
     "output_type": "display_data"
    },
    {
     "data": {
      "image/png": "[encoded data removed]",
      "text/plain": [
       "<Figure size 1152x432 with 1 Axes>"
      ]
     },
     "metadata": {},
     "output_type": "display_data"
    }
   ],
   "source": [
    "booted_data = get_bootstrap(\n",
    "    df2.query(a_with0).revenue,\n",
    "    df2.query(b_with0).revenue)"
   ]
  },
  {
   "cell_type": "markdown",
   "id": "33000436",
   "metadata": {},
   "source": [
    "Результаты теста говорят об отсутствии статистической значимости между выборками (Ноль на графике попадает в доверительный интевал)."
   ]
  },
  {
   "cell_type": "code",
   "execution_count": 10,
   "id": "deb4657a",
   "metadata": {},
   "outputs": [
    {
     "name": "stdout",
     "output_type": "stream",
     "text": [
      "P-value:\n"
     ]
    },
    {
     "data": {
      "text/plain": [
       "0.5611577635783951"
      ]
     },
     "execution_count": 10,
     "metadata": {},
     "output_type": "execute_result"
    }
   ],
   "source": [
    "print('P-value:')\n",
    "booted_data[\"p_value\"]"
   ]
  },
  {
   "cell_type": "markdown",
   "id": "6a5847e7",
   "metadata": {},
   "source": [
    "P-value больше 0.05, что не позволяет нам отклонить гипотезу об отсутствии разницы между контрольной и тестовой группами"
   ]
  },
  {
   "cell_type": "markdown",
   "id": "41c06ffe",
   "metadata": {},
   "source": [
    "**Теперь сделаем тоже самое для платящих пользователей**"
   ]
  },
  {
   "cell_type": "code",
   "execution_count": 11,
   "id": "cf2eadab",
   "metadata": {},
   "outputs": [
    {
     "data": {
      "application/vnd.jupyter.widget-view+json": {
       "model_id": "b02c41ad4ce24fbd945871b31bc0741b",
       "version_major": 2,
       "version_minor": 0
      },
      "text/plain": [
       "  0%|          | 0/1000 [00:00<?, ?it/s]"
      ]
     },
     "metadata": {},
     "output_type": "display_data"
    },
    {
     "data": {
      "image/png": "[encoded data removed]",
      "text/plain": [
       "<Figure size 1152x432 with 1 Axes>"
      ]
     },
     "metadata": {},
     "output_type": "display_data"
    }
   ],
   "source": [
    "booted_data2 = get_bootstrap(\n",
    "    df2.query(a_without0).revenue,\n",
    "    df2.query(b_without0).revenue)"
   ]
  },
  {
   "cell_type": "code",
   "execution_count": 12,
   "id": "326e2e1f",
   "metadata": {},
   "outputs": [
    {
     "name": "stdout",
     "output_type": "stream",
     "text": [
      "P-value:\n"
     ]
    },
    {
     "data": {
      "text/plain": [
       "0.09673787753378896"
      ]
     },
     "execution_count": 12,
     "metadata": {},
     "output_type": "execute_result"
    }
   ],
   "source": [
    "print('P-value:')\n",
    "booted_data2[\"p_value\"]"
   ]
  },
  {
   "cell_type": "markdown",
   "id": "7e2ec5e4",
   "metadata": {},
   "source": [
    "P-value всё еще больше 0.05 и мы не можем отклонить гипотезу об отсутствии разницы **ARPPU** в контрольной и тестовой группах"
   ]
  },
  {
   "cell_type": "markdown",
   "id": "6907e1e4",
   "metadata": {},
   "source": [
    "**Анализ выброса**   \n",
    "Теперь проанализируем выброс покупок с высоким чеком. У нас к сожалению нет данных по датам покупок, но можно выдвинуть предположение, что это была оплата годовой подписки или другая акция, приуроченная к конкретной дате. Поскольку в тестовую выборку такие покупки не попали, то в таком случае сравнивать их будет не корректно. Сравним наши выборки еще раз, но теперь без группы высоких чеков:"
   ]
  },
  {
   "cell_type": "code",
   "execution_count": 13,
   "id": "9009791d",
   "metadata": {},
   "outputs": [
    {
     "data": {
      "application/vnd.jupyter.widget-view+json": {
       "model_id": "7ab37d2cb636425ea414fa1db5216c85",
       "version_major": 2,
       "version_minor": 0
      },
      "text/plain": [
       "  0%|          | 0/1000 [00:00<?, ?it/s]"
      ]
     },
     "metadata": {},
     "output_type": "display_data"
    },
    {
     "data": {
      "image/png": "[encoded data removed]",
      "text/plain": [
       "<Figure size 1152x432 with 1 Axes>"
      ]
     },
     "metadata": {},
     "output_type": "display_data"
    }
   ],
   "source": [
    "booted_data3 = get_bootstrap(\n",
    "    df2.query(\"testgroup=='a' and revenue < 35000\").revenue,\n",
    "    df2.query(b_with0).revenue)"
   ]
  },
  {
   "cell_type": "code",
   "execution_count": 15,
   "id": "1c0fac80",
   "metadata": {},
   "outputs": [
    {
     "name": "stdout",
     "output_type": "stream",
     "text": [
      "P-value:\n"
     ]
    },
    {
     "data": {
      "text/plain": [
       "0.0"
      ]
     },
     "execution_count": 15,
     "metadata": {},
     "output_type": "execute_result"
    }
   ],
   "source": [
    "print('P-value:')\n",
    "round(booted_data3[\"p_value\"], 5)"
   ]
  },
  {
   "cell_type": "markdown",
   "id": "020c4fb1",
   "metadata": {},
   "source": [
    "Даже с присуствием неплатящих пользователей мы видим значительную статистическую разницу между выборками."
   ]
  },
  {
   "cell_type": "markdown",
   "id": "8122bc1c",
   "metadata": {},
   "source": [
    "**Выводы**"
   ]
  },
  {
   "cell_type": "markdown",
   "id": "0427267c",
   "metadata": {},
   "source": [
    "Мы сравнили метрики ARPU и ARPPU, для них статистически значимые различия не подтвердились.  \n",
    "Но, если наше предположение о сезонности высоких чеков верно, то мы можем утверждать что **разница между выборками есть** и эксперимент прошел успешно, изменения можно раскатывать на всех пользователей."
   ]
  }
 ],
 "metadata": {
  "kernelspec": {
   "display_name": "Python 3 (ipykernel)",
   "language": "python",
   "name": "python3"
  },
  "language_info": {
   "codemirror_mode": {
    "name": "ipython",
    "version": 3
   },
   "file_extension": ".py",
   "mimetype": "text/x-python",
   "name": "python",
   "nbconvert_exporter": "python",
   "pygments_lexer": "ipython3",
   "version": "3.9.12"
  }
 },
 "nbformat": 4,
 "nbformat_minor": 5
}
